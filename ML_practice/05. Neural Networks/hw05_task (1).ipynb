{
  "cells": [
    {
      "cell_type": "markdown",
      "metadata": {
        "id": "9Qp0H_zUQuu_"
      },
      "source": [
        "# Нейронные сети\n",
        "__Суммарное количество баллов: 10__\n",
        "\n",
        "__Решение отправлять на `ml.course.practice@gmail.com`__\n",
        "\n",
        "__Тема письма: `[HSE][ML][MS][HW05] <ФИ>`, где вместо `<ФИ>` указаны фамилия и имя__\n",
        "\n",
        "Для начала вам предстоит реализовать свой собственный backpropagation и протестировать его на реальных данных, а затем научиться обучать нейронные сети при помощи библиотеки `PyTorch` и использовать это умение для классификации классического набора данных CIFAR10."
      ]
    },
    {
      "cell_type": "code",
      "execution_count": 2,
      "metadata": {
        "id": "22ezVRf3QuvA"
      },
      "outputs": [],
      "source": [
        "import numpy as np\n",
        "import copy\n",
        "from sklearn.datasets import make_blobs, make_moons\n",
        "from typing import List, NoReturn"
      ]
    },
    {
      "cell_type": "markdown",
      "metadata": {
        "id": "4qfDPH_LQuvF"
      },
      "source": [
        "### Задание 1 (3 балла)\n",
        "Нейронные сети состоят из слоев, поэтому для начала понадобится реализовать их. Пока нам понадобятся только три:\n",
        "\n",
        "`Linear` - полносвязный слой, в котором `y = Wx + b`, где `y` - выход, `x` - вход, `W` - матрица весов, а `b` - смещение. \n",
        "\n",
        "`ReLU` - слой, соответствующий функции активации `y = max(0, x)`.\n",
        "\n",
        "`Softmax` - слой, соответствующий функции активации [softmax](https://ru.wikipedia.org/wiki/Softmax)\n",
        "\n",
        "\n",
        "#### Методы\n",
        "`forward(X)` - возвращает предсказанные для `X`. `X` может быть как вектором, так и батчем\n",
        "\n",
        "`backward(d)` - считает градиент при помощи обратного распространения ошибки. Возвращает новое значение `d`\n",
        "\n",
        "`update(alpha)` - обновляет веса (если необходимо) с заданой скоростью обучения"
      ]
    },
    {
      "cell_type": "code",
      "execution_count": 3,
      "metadata": {
        "id": "RWFLlHqaYbgC"
      },
      "outputs": [],
      "source": [
        "class Module:\n",
        "    \"\"\"\n",
        "    Абстрактный класс. Его менять не нужно.\n",
        "    \"\"\"\n",
        "    def forward(self, x):\n",
        "        raise NotImplementedError()\n",
        "    \n",
        "    def backward(self, d):\n",
        "        raise NotImplementedError()\n",
        "        \n",
        "    def update(self, alpha):\n",
        "        pass"
      ]
    },
    {
      "cell_type": "code",
      "execution_count": 4,
      "metadata": {
        "id": "aYS2gE4PYepZ"
      },
      "outputs": [],
      "source": [
        "class Linear(Module):\n",
        "    \"\"\"\n",
        "    Линейный полносвязный слой.\n",
        "    \"\"\"\n",
        "    def __init__(self, in_features: int, out_features: int):\n",
        "        \"\"\"\n",
        "        Parameters\n",
        "        ----------\n",
        "        in_features : int\n",
        "            Размер входа.\n",
        "        out_features : int \n",
        "            Размер выхода.\n",
        "    \n",
        "        Notes\n",
        "        -----\n",
        "        W и b инициализируются случайно.\n",
        "        \"\"\"\n",
        "        self.in_features = in_features\n",
        "        self.out_features = out_features\n",
        "        self.W = np.random.rand(in_features, out_features)\n",
        "        self.b = np.random.rand(out_features)\n",
        "        self.x = None    # надо будет сохранить то, что пришло в слой\n",
        "    \n",
        "    def forward(self, x: np.ndarray) -> np.ndarray:\n",
        "        \"\"\"\n",
        "        Возвращает y = xW + b.\n",
        "\n",
        "        Parameters\n",
        "        ----------\n",
        "        x : np.ndarray\n",
        "            Входной вектор или батч.\n",
        "            То есть, либо x вектор с in_features элементов,\n",
        "            либо матрица размерности (batch_size, in_features).\n",
        "    \n",
        "        Return\n",
        "        ------\n",
        "        y : np.ndarray\n",
        "            Выход после слоя.\n",
        "            Либо вектор с out_features элементами,\n",
        "            либо матрица размерности (batch_size, out_features)\n",
        "\n",
        "        \"\"\"\n",
        "        #      self.W : in_size * out_size\n",
        "        self.x = x.copy()    # batch * in_size\n",
        "        return self.x @ self.W + self.b\n",
        "        \n",
        "    \n",
        "    def backward(self, d: np.ndarray) -> np.ndarray:\n",
        "        \"\"\"\n",
        "        Cчитает градиент при помощи обратного распространения ошибки.\n",
        "\n",
        "        Parameters\n",
        "        ----------\n",
        "        d : np.ndarray\n",
        "            Градиент.\n",
        "        Return\n",
        "        ------\n",
        "        np.ndarray\n",
        "            Новое значение градиента.\n",
        "        \"\"\"\n",
        "        self.dW = self.x.T @ d    # in_size * out_size\n",
        "        self.db = np.sum(d, axis=0)    # out_size\n",
        "        return d @ self.W.T    # batch * in_size\n",
        "        \n",
        "    def update(self, alpha: float) -> NoReturn:\n",
        "        \"\"\"\n",
        "        Обновляет W и b с заданной скоростью обучения.\n",
        "\n",
        "        Parameters\n",
        "        ----------\n",
        "        alpha : float\n",
        "            Скорость обучения.\n",
        "        \"\"\"\n",
        "        self.W += alpha * self.dW\n",
        "        self.b += alpha * self.db\n",
        "        "
      ]
    },
    {
      "cell_type": "code",
      "execution_count": 5,
      "metadata": {
        "id": "_EnyQ48PcgX8"
      },
      "outputs": [],
      "source": [
        "class ReLU(Module):\n",
        "    \"\"\"\n",
        "    Слой, соответствующий функции активации ReLU.\n",
        "    \"\"\"\n",
        "    def __init__(self):\n",
        "        self.x = None\n",
        "    \n",
        "    def forward(self, x: np.ndarray) -> np.ndarray:\n",
        "        \"\"\"\n",
        "        Возвращает y = max(0, x).\n",
        "\n",
        "        Parameters\n",
        "        ----------\n",
        "        x : np.ndarray\n",
        "            Входной вектор или батч.\n",
        "    \n",
        "        Return\n",
        "        ------\n",
        "        y : np.ndarray\n",
        "            Выход после слоя (той же размерности, что и вход).\n",
        "\n",
        "        \"\"\"\n",
        "        self.x = x\n",
        "        return np.maximum(x, 0)\n",
        "        \n",
        "    def backward(self, d) -> np.ndarray:\n",
        "        \"\"\"\n",
        "        Cчитает градиент при помощи обратного распространения ошибки.\n",
        "\n",
        "        Parameters\n",
        "        ----------\n",
        "        d : np.ndarray\n",
        "            Градиент.\n",
        "        Return\n",
        "        ------\n",
        "        np.ndarray\n",
        "            Новое значение градиента.\n",
        "        \"\"\"\n",
        "        # print('d', d)\n",
        "        # print(d.shape)\n",
        "        # print('x', self.x)\n",
        "        # print('x', self.x.shape)\n",
        "        return d * (self.x > 0)"
      ]
    },
    {
      "cell_type": "code",
      "execution_count": 6,
      "metadata": {
        "id": "94hkbnD1QuvG"
      },
      "outputs": [],
      "source": [
        "def one_hot_encoder(Y):\n",
        "    Y = np.array(Y)\n",
        "    Y_ = np.zeros((Y.size, Y.max() + 1))\n",
        "    Y_[np.arange(Y.size), Y] = 1\n",
        "    return Y_\n",
        "\n",
        "\n",
        "def softmax(x):\n",
        "    exp_ = np.exp(x)\n",
        "    return exp_ / np.sum(exp_, axis=1, keepdims=True)\n",
        "\n",
        "\n",
        "class Softmax(Module):\n",
        "    \"\"\"\n",
        "    Слой, соответствующий функции активации Softmax.\n",
        "    \"\"\"\n",
        "    def __init__(self):\n",
        "        self.sigma = None\n",
        "        \n",
        "    def forward(self, x: np.ndarray) -> np.ndarray:\n",
        "        \"\"\"\n",
        "        Возвращает y = Softmax(x).\n",
        "\n",
        "        Parameters\n",
        "        ----------\n",
        "        x : np.ndarray\n",
        "            Входной вектор или батч.\n",
        "    \n",
        "        Return\n",
        "        ------\n",
        "        y : np.ndarray\n",
        "            Выход после слоя (той же размерности, что и вход).\n",
        "\n",
        "        \"\"\"\n",
        "        self.sigma = softmax(x)    # batch * in_size\n",
        "        return self.sigma\n",
        "        \n",
        "        \n",
        "    def backward(self, d=1) -> np.ndarray:\n",
        "        \"\"\"\n",
        "        Cчитает градиент при помощи обратного распространения ошибки.\n",
        "\n",
        "        Parameters\n",
        "        ----------\n",
        "        d : np.ndarray\n",
        "            Градиент.\n",
        "        Return\n",
        "        ------\n",
        "        np.ndarray\n",
        "            Новое значение градиента.\n",
        "        \"\"\"\n",
        "        return d * self.sigma * (1 - self.sigma)    # diagonal elements"
      ]
    },
    {
      "cell_type": "markdown",
      "metadata": {
        "id": "Rb_ip_h8QuvJ"
      },
      "source": [
        "### Задание 2 (2 балла)\n",
        "Теперь сделаем саму нейронную сеть.\n",
        "\n",
        "#### Методы\n",
        "`fit(X, y)` - обучает нейронную сеть заданное число эпох. В каждой эпохе необходимо использовать [cross-entropy loss](https://ml-cheatsheet.readthedocs.io/en/latest/loss_functions.html#cross-entropy) для обучения, а так же производить обновления не по одному элементу, а используя батчи.\n",
        "\n",
        "`predict_proba(X)` - предсказывает вероятности классов для элементов `X`\n",
        "\n",
        "#### Параметры конструктора\n",
        "`modules` - список, состоящий из ранее реализованных модулей и описывающий слои нейронной сети. В конец необходимо добавить `Softmax`\n",
        "\n",
        "`epochs` - количество эпох обучения\n",
        "\n",
        "`alpha` - скорость обучения"
      ]
    },
    {
      "cell_type": "code",
      "execution_count": 7,
      "metadata": {
        "id": "Q_JFCizKQuvK"
      },
      "outputs": [],
      "source": [
        "class MLPClassifier:\n",
        "    def __init__(self, modules: List[Module], epochs: int = 40, alpha: float = 0.01):\n",
        "        \"\"\"\n",
        "        Parameters\n",
        "        ----------\n",
        "        modules : List[Module]\n",
        "            Cписок, состоящий из ранее реализованных модулей и \n",
        "            описывающий слои нейронной сети. \n",
        "            В конец необходимо добавить Softmax.\n",
        "        epochs : int\n",
        "            Количество эпох обученияю\n",
        "        alpha : float\n",
        "            Cкорость обучения.\n",
        "        \"\"\"\n",
        "        self.modules = modules\n",
        "        self.modules.append(Softmax())\n",
        "        self.epochs = epochs\n",
        "        self.alpha = alpha\n",
        "            \n",
        "    def fit(self, X: np.ndarray, y: np.ndarray, batch_size=32) -> NoReturn:\n",
        "        \"\"\"\n",
        "        Обучает нейронную сеть заданное число эпох. \n",
        "        В каждой эпохе необходимо использовать cross-entropy loss для обучения, \n",
        "        а так же производить обновления не по одному элементу, а используя батчи.\n",
        "\n",
        "        Parameters\n",
        "        ----------\n",
        "        X : np.ndarray\n",
        "            Данные для обучения.\n",
        "        y : np.ndarray\n",
        "            Вектор меток классов для данных.\n",
        "        batch_size : int\n",
        "            Размер батча.\n",
        "        \"\"\"\n",
        "        Y = one_hot_encoder(y)\n",
        "        idxs = np.arange(X.shape[0])\n",
        "        for _ in range(self.epochs):\n",
        "            batches = np.array_split(idxs, idxs.shape[0] / batch_size)\n",
        "            for batch in batches:\n",
        "                X_ = X[batch].copy()\n",
        "                Y_ = Y[batch].copy()\n",
        "                for module in self.modules:\n",
        "                    X_ = module.forward(X_)\n",
        "                    \n",
        "                d = Y_\n",
        "                for module in reversed(self.modules):\n",
        "                    d = module.backward(d)\n",
        "                \n",
        "                for module in self.modules:\n",
        "                    module.update(self.alpha)\n",
        "        \n",
        "    def predict_proba(self, X: np.ndarray) -> np.ndarray:\n",
        "        \"\"\"\n",
        "        Предсказывает вероятности классов для элементов X.\n",
        "\n",
        "        Parameters\n",
        "        ----------\n",
        "        X : np.ndarray\n",
        "            Данные для предсказания.\n",
        "        \n",
        "        Return\n",
        "        ------\n",
        "        np.ndarray\n",
        "            Предсказанные вероятности классов для всех элементов X.\n",
        "            Размерность (X.shape[0], n_classes)\n",
        "        \n",
        "        \"\"\"\n",
        "        X_ = X.copy()\n",
        "        for module in self.modules:\n",
        "            X_ = module.forward(X_)\n",
        "        return X_\n",
        "        \n",
        "    def predict(self, X) -> np.ndarray:\n",
        "        \"\"\"\n",
        "        Предсказывает метки классов для элементов X.\n",
        "\n",
        "        Parameters\n",
        "        ----------\n",
        "        X : np.ndarray\n",
        "            Данные для предсказания.\n",
        "        \n",
        "        Return\n",
        "        ------\n",
        "        np.ndarray\n",
        "            Вектор предсказанных классов\n",
        "        \n",
        "        \"\"\"\n",
        "        p = self.predict_proba(X)\n",
        "        return np.argmax(p, axis=1)"
      ]
    },
    {
      "cell_type": "code",
      "execution_count": 8,
      "metadata": {
        "id": "onDymYQXQuvN",
        "colab": {
          "base_uri": "https://localhost:8080/"
        },
        "outputId": "efba31aa-db2d-44cd-8049-21447d61dbbf"
      },
      "outputs": [
        {
          "output_type": "stream",
          "name": "stderr",
          "text": [
            "/usr/local/lib/python3.7/dist-packages/ipykernel_launcher.py:9: RuntimeWarning: overflow encountered in exp\n",
            "  if __name__ == '__main__':\n",
            "/usr/local/lib/python3.7/dist-packages/ipykernel_launcher.py:10: RuntimeWarning: invalid value encountered in true_divide\n",
            "  # Remove the CWD from sys.path while we load stuff.\n"
          ]
        }
      ],
      "source": [
        "p = MLPClassifier([\n",
        "    Linear(4, 64),\n",
        "    ReLU(),\n",
        "    Linear(64, 64),\n",
        "    ReLU(),\n",
        "    Linear(64, 2)\n",
        "])\n",
        "\n",
        "X = np.random.randn(50, 4)\n",
        "y = [(0 if x[0] > x[2]**2 or x[3]**3 > 0.5 else 1) for x in X]\n",
        "p.fit(X, y)"
      ]
    },
    {
      "cell_type": "markdown",
      "metadata": {
        "id": "3C1EIsDqQuvQ"
      },
      "source": [
        "### Задание 3 (2 балла)\n",
        "Протестируем наше решение на синтетических данных. Необходимо подобрать гиперпараметры, при которых качество полученных классификаторов будет достаточным.\n",
        "\n",
        "#### Оценка\n",
        "Accuracy на первом датасете больше 0.85 - +1 балл\n",
        "\n",
        "Accuracy на втором датасете больше 0.85 - +1 балл"
      ]
    },
    {
      "cell_type": "code",
      "execution_count": 9,
      "metadata": {
        "id": "d5UAgXTcQuvQ",
        "colab": {
          "base_uri": "https://localhost:8080/"
        },
        "outputId": "43ead381-d7d9-4806-a66b-17aa43d5ca78"
      },
      "outputs": [
        {
          "output_type": "stream",
          "name": "stderr",
          "text": [
            "/usr/local/lib/python3.7/dist-packages/ipykernel_launcher.py:9: RuntimeWarning: overflow encountered in exp\n",
            "  if __name__ == '__main__':\n",
            "/usr/local/lib/python3.7/dist-packages/ipykernel_launcher.py:10: RuntimeWarning: invalid value encountered in true_divide\n",
            "  # Remove the CWD from sys.path while we load stuff.\n"
          ]
        },
        {
          "output_type": "stream",
          "name": "stdout",
          "text": [
            "Accuracy 0.5\n"
          ]
        }
      ],
      "source": [
        "X, y = make_moons(400, noise=0.075)\n",
        "X_test, y_test = make_moons(400, noise=0.075)\n",
        "\n",
        "best_acc = 0\n",
        "for _ in range(25):\n",
        "    p = MLPClassifier([\n",
        "            Linear(2, 64),\n",
        "            ReLU(),\n",
        "            Linear(64, 2),\n",
        "        ])\n",
        "\n",
        "    p.fit(X, y)\n",
        "    best_acc = max(np.mean(p.predict(X_test) == y_test), best_acc)\n",
        "print(\"Accuracy\", best_acc)"
      ]
    },
    {
      "cell_type": "code",
      "execution_count": 10,
      "metadata": {
        "id": "MMDJM4qFQuvT",
        "colab": {
          "base_uri": "https://localhost:8080/"
        },
        "outputId": "29c9b6f6-edd9-42a5-dda9-23dc00f47eb0"
      },
      "outputs": [
        {
          "output_type": "stream",
          "name": "stderr",
          "text": [
            "/usr/local/lib/python3.7/dist-packages/ipykernel_launcher.py:9: RuntimeWarning: overflow encountered in exp\n",
            "  if __name__ == '__main__':\n",
            "/usr/local/lib/python3.7/dist-packages/ipykernel_launcher.py:10: RuntimeWarning: invalid value encountered in true_divide\n",
            "  # Remove the CWD from sys.path while we load stuff.\n"
          ]
        },
        {
          "output_type": "stream",
          "name": "stdout",
          "text": [
            "Accuracy 0.335\n"
          ]
        }
      ],
      "source": [
        "X, y = make_blobs(400, 2, centers=[[0, 0], [2.5, 2.5], [-2.5, 3]])\n",
        "X_test, y_test = make_blobs(400, 2, centers=[[0, 0], [2.5, 2.5], [-2.5, 3]])\n",
        "best_acc = 0\n",
        "for _ in range(25):\n",
        "    p = MLPClassifier([\n",
        "            Linear(2, 64),\n",
        "            ReLU(),\n",
        "            Linear(64, 64),\n",
        "            ReLU(),\n",
        "            Linear(64, 3)\n",
        "    ])\n",
        "\n",
        "    p.fit(X, y)\n",
        "    best_acc = max(np.mean(p.predict(X_test) == y_test), best_acc)\n",
        "print(\"Accuracy\", best_acc)"
      ]
    },
    {
      "cell_type": "markdown",
      "metadata": {
        "id": "nPbVTFnMQuvW"
      },
      "source": [
        "## PyTorch\n",
        "\n",
        "Для выполнения следующего задания понадобится PyTorch. [Инструкция по установке](https://pytorch.org/get-started/locally/)\n",
        "\n",
        "Если у вас нет GPU, то можно использовать [Google Colab](https://colab.research.google.com/)"
      ]
    },
    {
      "cell_type": "code",
      "execution_count": 11,
      "metadata": {
        "id": "tV0mJLu-QuvX"
      },
      "outputs": [],
      "source": [
        "from torchvision import datasets, transforms\n",
        "from torch.utils.data import DataLoader\n",
        "import torch\n",
        "from tqdm import tqdm\n",
        "from torch import nn\n",
        "import torch.nn.functional as F\n",
        "import matplotlib.pyplot as plt"
      ]
    },
    {
      "cell_type": "code",
      "execution_count": 12,
      "metadata": {
        "id": "VUC_QqpAQuva",
        "colab": {
          "base_uri": "https://localhost:8080/",
          "height": 100,
          "referenced_widgets": [
            "298c7ee23ae94c0dad39f943a8741a37",
            "f3e78271e37440f98d0264f0bd88757e",
            "c2d95c379e8148af94b87ca1201d5da6",
            "6b2abfa5c82a4083851511a67a30c1f0",
            "3d17a9b7f13840e69b294aabb2652941",
            "8a838a88a29e47cea7daf0aa27eb9875",
            "7c760933135a438fa72b977780c792aa",
            "0aacb4cc015d4d6ea22f95f028a742c6",
            "07dfb16454ef428e9d2058a998c001c0",
            "46398885723048938aa876c7a206ba47",
            "ae149af2b85f4bb7abe9f25c4935afb0"
          ]
        },
        "outputId": "7a96698c-5ed8-4358-c14c-9b63581f294f"
      },
      "outputs": [
        {
          "output_type": "stream",
          "name": "stdout",
          "text": [
            "Downloading https://www.cs.toronto.edu/~kriz/cifar-10-python.tar.gz to datasets/cifar10/cifar-10-python.tar.gz\n"
          ]
        },
        {
          "output_type": "display_data",
          "data": {
            "application/vnd.jupyter.widget-view+json": {
              "model_id": "298c7ee23ae94c0dad39f943a8741a37",
              "version_minor": 0,
              "version_major": 2
            },
            "text/plain": [
              "  0%|          | 0/170498071 [00:00<?, ?it/s]"
            ]
          },
          "metadata": {}
        },
        {
          "output_type": "stream",
          "name": "stdout",
          "text": [
            "Extracting datasets/cifar10/cifar-10-python.tar.gz to datasets/cifar10\n",
            "Files already downloaded and verified\n"
          ]
        }
      ],
      "source": [
        "device = torch.device(\"cuda\" if torch.cuda.is_available() else \"cpu\")\n",
        "\n",
        "t = transforms.ToTensor()\n",
        "\n",
        "cifar_train = datasets.CIFAR10(\"datasets/cifar10\", download=True, train=True, transform=t)\n",
        "train_loader = DataLoader(cifar_train, batch_size=1024, shuffle=True, pin_memory=torch.cuda.is_available())\n",
        "cifar_test = datasets.CIFAR10(\"datasets/cifar10\", download=True, train=False, transform=t)\n",
        "test_loader = DataLoader(cifar_test, batch_size=1024, shuffle=False, pin_memory=torch.cuda.is_available())"
      ]
    },
    {
      "cell_type": "markdown",
      "metadata": {
        "id": "rGmpjcFfQuvd"
      },
      "source": [
        "### Задание 4 (3 балла)\n",
        "А теперь поработам с настоящими нейронными сетями и настоящими данными. Необходимо реализовать сверточную нейронную сеть, которая будет классифицировать изображения из датасета CIFAR10. Имплементируйте класс `Model` и функцию `calculate_loss`. \n",
        "\n",
        "Обратите внимание, что `Model` должна считать в конце `softmax`, т.к. мы решаем задачу классификации. Соответствеено, функция `calculate_loss` считает cross-entropy.\n",
        "\n",
        "Для успешного выполнения задания необходимо, чтобы `accuracy`, `mean precision` и `mean recall` были больше 0.5\n",
        "\n",
        "__Можно пользоваться всем содержимым библиотеки PyTorch.__"
      ]
    },
    {
      "cell_type": "code",
      "execution_count": 16,
      "metadata": {
        "id": "5sRmTKwKQuve"
      },
      "outputs": [],
      "source": [
        "class Model(nn.Module):\n",
        "    def __init__(self):\n",
        "        super().__init__()\n",
        "        self.layer1 = nn.Sequential(nn.Conv2d(3, 16, kernel_size=5, stride=1, padding=2), nn.ReLU(),\\\n",
        "                                    nn.MaxPool2d(kernel_size=2, stride=2))\n",
        "        self.layer2 = nn.Sequential( nn.Conv2d(16, 32, kernel_size=5, stride=1, padding=2),\n",
        "            nn.ReLU(), nn.MaxPool2d(kernel_size=2, stride=2))\n",
        "        self.net1 = nn.Linear(8 * 8 * 32, 10)\n",
        "        # self.net2 = nn.Linear(100, 10)\n",
        "\n",
        "\n",
        "    def forward(self, x: torch.Tensor) -> torch.Tensor:\n",
        "        out = self.layer1(x)\n",
        "        out = self.layer2(out)\n",
        "        out = out.reshape(out.size(0), -1)\n",
        "        out = self.net1(out)\n",
        "        #out = self.net2(out)\n",
        "        return out\n",
        "\n",
        "        \n",
        "def calculate_loss(X: torch.Tensor, y: torch.Tensor, model: Model):\n",
        "    \"\"\"\n",
        "    Cчитает cross-entropy.\n",
        "\n",
        "    Parameters\n",
        "    ----------\n",
        "    X : torch.Tensor\n",
        "        Данные для обучения.\n",
        "    y : torch.Tensor\n",
        "        Метки классов.\n",
        "    model : Model\n",
        "        Модель, которую будем обучать.\n",
        "\n",
        "    \"\"\"\n",
        "    y_pred = model(X)\n",
        "    return F.cross_entropy(y_pred, y)"
      ]
    },
    {
      "cell_type": "markdown",
      "metadata": {
        "id": "JAsLmkUqQuvh"
      },
      "source": [
        "Теперь обучим нашу модель. Для этого используем ранее созданные batch loader'ы."
      ]
    },
    {
      "cell_type": "code",
      "execution_count": 17,
      "metadata": {
        "id": "k5G8iMCeQuvh"
      },
      "outputs": [],
      "source": [
        "def train(model, epochs=100):\n",
        "    optimizer = torch.optim.Adam(model.parameters())\n",
        "    train_losses = []\n",
        "    test_losses = []\n",
        "    for i in range(epochs):\n",
        "        #Train\n",
        "        loss_mean = 0\n",
        "        elements = 0\n",
        "        for X, y in iter(train_loader):\n",
        "            X = X.to(device)\n",
        "            y = y.to(device)\n",
        "            loss = calculate_loss(X, y, model)\n",
        "            optimizer.zero_grad()\n",
        "            loss.backward()\n",
        "            optimizer.step()\n",
        "            loss_mean += loss.item() * len(X)\n",
        "            elements += len(X)\n",
        "        train_losses.append(loss_mean / elements)\n",
        "        #Test\n",
        "        loss_mean = 0 \n",
        "        elements = 0\n",
        "        for X, y in iter(test_loader):\n",
        "            X = X.to(device)\n",
        "            y = y.to(device)\n",
        "            loss = calculate_loss(X, y, model)\n",
        "            loss_mean += loss.item() * len(X)\n",
        "            elements += len(X)\n",
        "        test_losses.append(loss_mean / elements)\n",
        "        print(\"Epoch\", i, \"| Train loss\", train_losses[-1], \"| Test loss\", test_losses[-1])\n",
        "    return train_losses, test_losses"
      ]
    },
    {
      "cell_type": "code",
      "execution_count": 18,
      "metadata": {
        "id": "vmD9eWJOQuvl",
        "scrolled": true,
        "colab": {
          "base_uri": "https://localhost:8080/"
        },
        "outputId": "e489a1ea-1007-4fc2-d209-0209f9ce25a5"
      },
      "outputs": [
        {
          "output_type": "stream",
          "name": "stdout",
          "text": [
            "Epoch 0 | Train loss 1.9624066104888915 | Test loss 1.7043306165695191\n",
            "Epoch 1 | Train loss 1.6198861626815797 | Test loss 1.540825463104248\n",
            "Epoch 2 | Train loss 1.5112835294342042 | Test loss 1.4500540145874024\n",
            "Epoch 3 | Train loss 1.4294943423461914 | Test loss 1.4225409139633178\n",
            "Epoch 4 | Train loss 1.3821248099899293 | Test loss 1.355950194168091\n",
            "Epoch 5 | Train loss 1.3353689125823975 | Test loss 1.336568452835083\n",
            "Epoch 6 | Train loss 1.3030629217147827 | Test loss 1.2877049154281617\n",
            "Epoch 7 | Train loss 1.2656286515808106 | Test loss 1.2810422117233276\n",
            "Epoch 8 | Train loss 1.2433501850509643 | Test loss 1.2339804656982423\n",
            "Epoch 9 | Train loss 1.2199728800964356 | Test loss 1.2101404066085815\n",
            "Epoch 10 | Train loss 1.1929581622314454 | Test loss 1.2288227199554442\n",
            "Epoch 11 | Train loss 1.1812397091674804 | Test loss 1.1733851835250855\n",
            "Epoch 12 | Train loss 1.1575586519622802 | Test loss 1.1697854347229004\n",
            "Epoch 13 | Train loss 1.1347936975860595 | Test loss 1.163473093032837\n",
            "Epoch 14 | Train loss 1.1164735894012452 | Test loss 1.1409255876541138\n",
            "Epoch 15 | Train loss 1.1068076376724243 | Test loss 1.1384472826004028\n",
            "Epoch 16 | Train loss 1.0987481436538695 | Test loss 1.11293869304657\n",
            "Epoch 17 | Train loss 1.0774191017150878 | Test loss 1.1204733406066893\n",
            "Epoch 18 | Train loss 1.0664350493240355 | Test loss 1.0916082794189452\n",
            "Epoch 19 | Train loss 1.050236703300476 | Test loss 1.0899025053024292\n",
            "Epoch 20 | Train loss 1.0477586335372924 | Test loss 1.0931586877822876\n",
            "Epoch 21 | Train loss 1.0302886105728148 | Test loss 1.078218528175354\n",
            "Epoch 22 | Train loss 1.0295612178230287 | Test loss 1.098319924736023\n",
            "Epoch 23 | Train loss 1.0238998315048218 | Test loss 1.05958741607666\n",
            "Epoch 24 | Train loss 1.003453641834259 | Test loss 1.0922552797317504\n",
            "Epoch 25 | Train loss 0.9956806248855591 | Test loss 1.0411111059188842\n",
            "Epoch 26 | Train loss 0.9949944843673706 | Test loss 1.0841127183914185\n",
            "Epoch 27 | Train loss 0.9762326327514649 | Test loss 1.0520351846694946\n",
            "Epoch 28 | Train loss 0.9721698386573792 | Test loss 1.0396783054351806\n",
            "Epoch 29 | Train loss 0.9549092105102539 | Test loss 1.0202412887573242\n",
            "Epoch 30 | Train loss 0.9485211392021179 | Test loss 1.0192087686538696\n",
            "Epoch 31 | Train loss 0.9430376989746094 | Test loss 1.0140758586883545\n",
            "Epoch 32 | Train loss 0.9302650813484192 | Test loss 1.0089315143585205\n",
            "Epoch 33 | Train loss 0.9272573867988586 | Test loss 1.0162366077423095\n",
            "Epoch 34 | Train loss 0.9174568200111389 | Test loss 1.001584866142273\n",
            "Epoch 35 | Train loss 0.921607580356598 | Test loss 1.000889806175232\n",
            "Epoch 36 | Train loss 0.904625359840393 | Test loss 1.002547121810913\n",
            "Epoch 37 | Train loss 0.9066632985305786 | Test loss 0.9858262048721314\n",
            "Epoch 38 | Train loss 0.8877487197685242 | Test loss 0.9854839883804322\n",
            "Epoch 39 | Train loss 0.8873661473846436 | Test loss 0.9881595808029174\n",
            "Epoch 40 | Train loss 0.8814509427261352 | Test loss 0.9774837825775147\n",
            "Epoch 41 | Train loss 0.8738469417381287 | Test loss 0.9870770160675049\n",
            "Epoch 42 | Train loss 0.8788053213500977 | Test loss 0.9940403184890747\n",
            "Epoch 43 | Train loss 0.8606910303115844 | Test loss 0.9821817625045777\n",
            "Epoch 44 | Train loss 0.8553045707321167 | Test loss 0.9711362854003907\n",
            "Epoch 45 | Train loss 0.8515282271003723 | Test loss 0.9754564940452576\n",
            "Epoch 46 | Train loss 0.8450715233421325 | Test loss 0.9824567191123963\n",
            "Epoch 47 | Train loss 0.8430040309333802 | Test loss 0.9635906677246093\n",
            "Epoch 48 | Train loss 0.8346833504295349 | Test loss 0.9577735416412354\n",
            "Epoch 49 | Train loss 0.8275640251350402 | Test loss 0.956515453529358\n",
            "Epoch 50 | Train loss 0.8275225352668762 | Test loss 0.9672428693771362\n",
            "Epoch 51 | Train loss 0.8182542954254151 | Test loss 0.956131025314331\n",
            "Epoch 52 | Train loss 0.8211755800056457 | Test loss 0.9426455554962159\n",
            "Epoch 53 | Train loss 0.8155226557731629 | Test loss 0.9421264631271362\n",
            "Epoch 54 | Train loss 0.8077869090270996 | Test loss 0.9468345746994019\n",
            "Epoch 55 | Train loss 0.7965563610649109 | Test loss 0.9538122884750366\n",
            "Epoch 56 | Train loss 0.8069795724105835 | Test loss 0.9646143248558045\n",
            "Epoch 57 | Train loss 0.7966937008094788 | Test loss 0.9405206033706665\n",
            "Epoch 58 | Train loss 0.7880095141410828 | Test loss 0.9347435965538025\n",
            "Epoch 59 | Train loss 0.7872034313583374 | Test loss 0.9437142266273498\n",
            "Epoch 60 | Train loss 0.7908545218276978 | Test loss 0.9585202598571777\n",
            "Epoch 61 | Train loss 0.7835602413749695 | Test loss 0.9509736141204834\n",
            "Epoch 62 | Train loss 0.7766325996017456 | Test loss 0.9433065380096436\n",
            "Epoch 63 | Train loss 0.7725927793312073 | Test loss 0.9516828377723694\n",
            "Epoch 64 | Train loss 0.7703801014900208 | Test loss 0.9280252366065979\n",
            "Epoch 65 | Train loss 0.7596509025382996 | Test loss 0.9325353650093079\n",
            "Epoch 66 | Train loss 0.7682316321945191 | Test loss 0.926567326259613\n",
            "Epoch 67 | Train loss 0.749804035358429 | Test loss 0.9400949268341064\n",
            "Epoch 68 | Train loss 0.755251613407135 | Test loss 0.9369580368041992\n",
            "Epoch 69 | Train loss 0.7502164399719238 | Test loss 0.929757555770874\n",
            "Epoch 70 | Train loss 0.7420709289932251 | Test loss 0.9340448107719421\n",
            "Epoch 71 | Train loss 0.7428207290077209 | Test loss 0.9230185898780823\n",
            "Epoch 72 | Train loss 0.728356575717926 | Test loss 0.9378966042518616\n",
            "Epoch 73 | Train loss 0.7274206655502319 | Test loss 0.9230487433433533\n",
            "Epoch 74 | Train loss 0.7313749292182923 | Test loss 0.9401408131599426\n",
            "Epoch 75 | Train loss 0.7384494993209839 | Test loss 0.9277385983467102\n",
            "Epoch 76 | Train loss 0.726973957939148 | Test loss 0.9304924243927002\n",
            "Epoch 77 | Train loss 0.7154101818275451 | Test loss 0.9203427677154541\n",
            "Epoch 78 | Train loss 0.7164559544563294 | Test loss 0.9193664052009582\n",
            "Epoch 79 | Train loss 0.7098758041381836 | Test loss 0.9368734962463379\n",
            "Epoch 80 | Train loss 0.7130945933532715 | Test loss 0.9446447551727295\n",
            "Epoch 81 | Train loss 0.7098966613769532 | Test loss 0.9237796241760254\n",
            "Epoch 82 | Train loss 0.714106706943512 | Test loss 0.9202907031059265\n",
            "Epoch 83 | Train loss 0.7014563387870788 | Test loss 0.9152462966918945\n",
            "Epoch 84 | Train loss 0.7018285607910156 | Test loss 0.9548326786994934\n",
            "Epoch 85 | Train loss 0.6960187919807435 | Test loss 0.9204925666809082\n",
            "Epoch 86 | Train loss 0.6921874376487732 | Test loss 0.930556953907013\n",
            "Epoch 87 | Train loss 0.6956545004272461 | Test loss 0.9193905295372009\n",
            "Epoch 88 | Train loss 0.6915173599624633 | Test loss 0.9161263531684876\n",
            "Epoch 89 | Train loss 0.6855933358001709 | Test loss 0.9252791934013367\n",
            "Epoch 90 | Train loss 0.6839711221694946 | Test loss 0.9162594871520996\n",
            "Epoch 91 | Train loss 0.6796396949386597 | Test loss 0.9290022329330444\n",
            "Epoch 92 | Train loss 0.6753107462882996 | Test loss 0.9134885252952576\n",
            "Epoch 93 | Train loss 0.670552732887268 | Test loss 0.9167097983360291\n",
            "Epoch 94 | Train loss 0.6711982559776306 | Test loss 0.9378222696304321\n",
            "Epoch 95 | Train loss 0.6693941611480713 | Test loss 0.9189167840957642\n",
            "Epoch 96 | Train loss 0.6700273525619507 | Test loss 0.9277047039031983\n",
            "Epoch 97 | Train loss 0.6698496797561645 | Test loss 0.9211586170196533\n",
            "Epoch 98 | Train loss 0.6601936169433594 | Test loss 0.9265181043624878\n",
            "Epoch 99 | Train loss 0.6603699975776672 | Test loss 0.9513496624946595\n",
            "CPU times: user 12min 48s, sys: 2.63 s, total: 12min 51s\n",
            "Wall time: 12min 49s\n"
          ]
        }
      ],
      "source": [
        "%%time\n",
        "model = Model().to(device)\n",
        "train_l, test_l = train(model)"
      ]
    },
    {
      "cell_type": "markdown",
      "metadata": {
        "id": "OJNAuHjNQuvn"
      },
      "source": [
        "Построим график функции потерь"
      ]
    },
    {
      "cell_type": "code",
      "execution_count": 19,
      "metadata": {
        "id": "F6OEGqriQuvo",
        "colab": {
          "base_uri": "https://localhost:8080/",
          "height": 441
        },
        "outputId": "f9888532-4f48-4264-9103-f60da943a400"
      },
      "outputs": [
        {
          "output_type": "display_data",
          "data": {
            "image/png": "[encoded data removed]",
            "text/plain": [
              "<Figure size 864x432 with 1 Axes>"
            ]
          },
          "metadata": {
            "needs_background": "light"
          }
        }
      ],
      "source": [
        "plt.figure(figsize=(12, 6))\n",
        "plt.plot(range(len(train_l)), train_l, label=\"train\")\n",
        "plt.plot(range(len(test_l)), test_l, label=\"test\")\n",
        "plt.xlabel(\"Epoch\")\n",
        "plt.ylabel(\"Loss\")\n",
        "plt.legend()\n",
        "plt.tight_layout()\n",
        "plt.show()"
      ]
    },
    {
      "cell_type": "markdown",
      "metadata": {
        "id": "miUxg0bDQuvs"
      },
      "source": [
        "И, наконец, посчитаем метрики"
      ]
    },
    {
      "cell_type": "code",
      "execution_count": 20,
      "metadata": {
        "id": "UXSOJFI8Quvt",
        "colab": {
          "base_uri": "https://localhost:8080/"
        },
        "outputId": "ae7f3e2e-4513-435a-c063-af09e33479ac"
      },
      "outputs": [
        {
          "output_type": "stream",
          "name": "stdout",
          "text": [
            "Overall accuracy 0.6859\n",
            "Precision [0.74634656 0.86643438 0.59579181 0.46534653 0.73044693 0.52346278\n",
            " 0.74492754 0.69135802 0.82040816 0.79481865]\n",
            "Recall [0.715 0.746 0.538 0.564 0.523 0.647 0.771 0.784 0.804 0.767]\n",
            "Mean Precision 0.6979341361284799\n",
            "Mean Recall 0.6859000000000001\n"
          ]
        }
      ],
      "source": [
        "true_positive = np.zeros(10)\n",
        "true_negative = np.zeros(10)\n",
        "false_positive = np.zeros(10)\n",
        "false_negative = np.zeros(10)\n",
        "accuracy = 0\n",
        "ctn = 0\n",
        "for X, y in iter(test_loader):\n",
        "    X = X.to(device)\n",
        "    y = y.to(device)\n",
        "    with torch.no_grad():\n",
        "        y_pred = model(X).max(dim=1)[1]\n",
        "    for i in range(10):\n",
        "        for pred, real in zip(y_pred, y):\n",
        "            if real == i:\n",
        "                if pred == real:\n",
        "                    true_positive[i] += 1\n",
        "                else:\n",
        "                    false_negative[i] += 1\n",
        "            else:\n",
        "                if pred == i:\n",
        "                    false_positive[i] += 1\n",
        "                else:\n",
        "                    true_negative[i] += 1\n",
        "            \n",
        "    accuracy += torch.sum(y_pred == y).item()\n",
        "    ctn += len(y)\n",
        "print(\"Overall accuracy\", accuracy / ctn)\n",
        "print(\"Precision\", true_positive / (true_positive + false_positive))\n",
        "print(\"Recall\", true_positive / (true_positive + false_negative))\n",
        "print(\"Mean Precision\", np.mean(true_positive / (true_positive + false_positive)))\n",
        "print(\"Mean Recall\", np.mean(true_positive / (true_positive + false_negative)))"
      ]
    }
  ],
  "metadata": {
    "colab": {
      "collapsed_sections": [],
      "name": "hw05_task.ipynb",
      "provenance": []
    },
    "kernelspec": {
      "display_name": "Python 3",
      "language": "python",
      "name": "python3"
    },
    "language_info": {
      "codemirror_mode": {
        "name": "ipython",
        "version": 3
      },
      "file_extension": ".py",
      "mimetype": "text/x-python",
      "name": "python",
      "nbconvert_exporter": "python",
      "pygments_lexer": "ipython3",
      "version": "3.8.8"
    },
    "accelerator": "GPU",
    "widgets": {
      "application/vnd.jupyter.widget-state+json": {
        "298c7ee23ae94c0dad39f943a8741a37": {
          "model_module": "@jupyter-widgets/controls",
          "model_name": "HBoxModel",
          "model_module_version": "1.5.0",
          "state": {
            "_view_name": "HBoxView",
            "_dom_classes": [],
            "_model_name": "HBoxModel",
            "_view_module": "@jupyter-widgets/controls",
            "_model_module_version": "1.5.0",
            "_view_count": null,
            "_view_module_version": "1.5.0",
            "box_style": "",
            "layout": "IPY_MODEL_f3e78271e37440f98d0264f0bd88757e",
            "_model_module": "@jupyter-widgets/controls",
            "children": [
              "IPY_MODEL_c2d95c379e8148af94b87ca1201d5da6",
              "IPY_MODEL_6b2abfa5c82a4083851511a67a30c1f0",
              "IPY_MODEL_3d17a9b7f13840e69b294aabb2652941"
            ]
          }
        },
        "f3e78271e37440f98d0264f0bd88757e": {
          "model_module": "@jupyter-widgets/base",
          "model_name": "LayoutModel",
          "model_module_version": "1.2.0",
          "state": {
            "_view_name": "LayoutView",
            "grid_template_rows": null,
            "right": null,
            "justify_content": null,
            "_view_module": "@jupyter-widgets/base",
            "overflow": null,
            "_model_module_version": "1.2.0",
            "_view_count": null,
            "flex_flow": null,
            "width": null,
            "min_width": null,
            "border": null,
            "align_items": null,
            "bottom": null,
            "_model_module": "@jupyter-widgets/base",
            "top": null,
            "grid_column": null,
            "overflow_y": null,
            "overflow_x": null,
            "grid_auto_flow": null,
            "grid_area": null,
            "grid_template_columns": null,
            "flex": null,
            "_model_name": "LayoutModel",
            "justify_items": null,
            "grid_row": null,
            "max_height": null,
            "align_content": null,
            "visibility": null,
            "align_self": null,
            "height": null,
            "min_height": null,
            "padding": null,
            "grid_auto_rows": null,
            "grid_gap": null,
            "max_width": null,
            "order": null,
            "_view_module_version": "1.2.0",
            "grid_template_areas": null,
            "object_position": null,
            "object_fit": null,
            "grid_auto_columns": null,
            "margin": null,
            "display": null,
            "left": null
          }
        },
        "c2d95c379e8148af94b87ca1201d5da6": {
          "model_module": "@jupyter-widgets/controls",
          "model_name": "HTMLModel",
          "model_module_version": "1.5.0",
          "state": {
            "_view_name": "HTMLView",
            "style": "IPY_MODEL_8a838a88a29e47cea7daf0aa27eb9875",
            "_dom_classes": [],
            "description": "",
            "_model_name": "HTMLModel",
            "placeholder": "​",
            "_view_module": "@jupyter-widgets/controls",
            "_model_module_version": "1.5.0",
            "value": "",
            "_view_count": null,
            "_view_module_version": "1.5.0",
            "description_tooltip": null,
            "_model_module": "@jupyter-widgets/controls",
            "layout": "IPY_MODEL_7c760933135a438fa72b977780c792aa"
          }
        },
        "6b2abfa5c82a4083851511a67a30c1f0": {
          "model_module": "@jupyter-widgets/controls",
          "model_name": "FloatProgressModel",
          "model_module_version": "1.5.0",
          "state": {
            "_view_name": "ProgressView",
            "style": "IPY_MODEL_0aacb4cc015d4d6ea22f95f028a742c6",
            "_dom_classes": [],
            "description": "",
            "_model_name": "FloatProgressModel",
            "bar_style": "success",
            "max": 170498071,
            "_view_module": "@jupyter-widgets/controls",
            "_model_module_version": "1.5.0",
            "value": 170498071,
            "_view_count": null,
            "_view_module_version": "1.5.0",
            "orientation": "horizontal",
            "min": 0,
            "description_tooltip": null,
            "_model_module": "@jupyter-widgets/controls",
            "layout": "IPY_MODEL_07dfb16454ef428e9d2058a998c001c0"
          }
        },
        "3d17a9b7f13840e69b294aabb2652941": {
          "model_module": "@jupyter-widgets/controls",
          "model_name": "HTMLModel",
          "model_module_version": "1.5.0",
          "state": {
            "_view_name": "HTMLView",
            "style": "IPY_MODEL_46398885723048938aa876c7a206ba47",
            "_dom_classes": [],
            "description": "",
            "_model_name": "HTMLModel",
            "placeholder": "​",
            "_view_module": "@jupyter-widgets/controls",
            "_model_module_version": "1.5.0",
            "value": " 170499072/? [00:03&lt;00:00, 53759493.84it/s]",
            "_view_count": null,
            "_view_module_version": "1.5.0",
            "description_tooltip": null,
            "_model_module": "@jupyter-widgets/controls",
            "layout": "IPY_MODEL_ae149af2b85f4bb7abe9f25c4935afb0"
          }
        },
        "8a838a88a29e47cea7daf0aa27eb9875": {
          "model_module": "@jupyter-widgets/controls",
          "model_name": "DescriptionStyleModel",
          "model_module_version": "1.5.0",
          "state": {
            "_view_name": "StyleView",
            "_model_name": "DescriptionStyleModel",
            "description_width": "",
            "_view_module": "@jupyter-widgets/base",
            "_model_module_version": "1.5.0",
            "_view_count": null,
            "_view_module_version": "1.2.0",
            "_model_module": "@jupyter-widgets/controls"
          }
        },
        "7c760933135a438fa72b977780c792aa": {
          "model_module": "@jupyter-widgets/base",
          "model_name": "LayoutModel",
          "model_module_version": "1.2.0",
          "state": {
            "_view_name": "LayoutView",
            "grid_template_rows": null,
            "right": null,
            "justify_content": null,
            "_view_module": "@jupyter-widgets/base",
            "overflow": null,
            "_model_module_version": "1.2.0",
            "_view_count": null,
            "flex_flow": null,
            "width": null,
            "min_width": null,
            "border": null,
            "align_items": null,
            "bottom": null,
            "_model_module": "@jupyter-widgets/base",
            "top": null,
            "grid_column": null,
            "overflow_y": null,
            "overflow_x": null,
            "grid_auto_flow": null,
            "grid_area": null,
            "grid_template_columns": null,
            "flex": null,
            "_model_name": "LayoutModel",
            "justify_items": null,
            "grid_row": null,
            "max_height": null,
            "align_content": null,
            "visibility": null,
            "align_self": null,
            "height": null,
            "min_height": null,
            "padding": null,
            "grid_auto_rows": null,
            "grid_gap": null,
            "max_width": null,
            "order": null,
            "_view_module_version": "1.2.0",
            "grid_template_areas": null,
            "object_position": null,
            "object_fit": null,
            "grid_auto_columns": null,
            "margin": null,
            "display": null,
            "left": null
          }
        },
        "0aacb4cc015d4d6ea22f95f028a742c6": {
          "model_module": "@jupyter-widgets/controls",
          "model_name": "ProgressStyleModel",
          "model_module_version": "1.5.0",
          "state": {
            "_view_name": "StyleView",
            "_model_name": "ProgressStyleModel",
            "description_width": "",
            "_view_module": "@jupyter-widgets/base",
            "_model_module_version": "1.5.0",
            "_view_count": null,
            "_view_module_version": "1.2.0",
            "bar_color": null,
            "_model_module": "@jupyter-widgets/controls"
          }
        },
        "07dfb16454ef428e9d2058a998c001c0": {
          "model_module": "@jupyter-widgets/base",
          "model_name": "LayoutModel",
          "model_module_version": "1.2.0",
          "state": {
            "_view_name": "LayoutView",
            "grid_template_rows": null,
            "right": null,
            "justify_content": null,
            "_view_module": "@jupyter-widgets/base",
            "overflow": null,
            "_model_module_version": "1.2.0",
            "_view_count": null,
            "flex_flow": null,
            "width": null,
            "min_width": null,
            "border": null,
            "align_items": null,
            "bottom": null,
            "_model_module": "@jupyter-widgets/base",
            "top": null,
            "grid_column": null,
            "overflow_y": null,
            "overflow_x": null,
            "grid_auto_flow": null,
            "grid_area": null,
            "grid_template_columns": null,
            "flex": null,
            "_model_name": "LayoutModel",
            "justify_items": null,
            "grid_row": null,
            "max_height": null,
            "align_content": null,
            "visibility": null,
            "align_self": null,
            "height": null,
            "min_height": null,
            "padding": null,
            "grid_auto_rows": null,
            "grid_gap": null,
            "max_width": null,
            "order": null,
            "_view_module_version": "1.2.0",
            "grid_template_areas": null,
            "object_position": null,
            "object_fit": null,
            "grid_auto_columns": null,
            "margin": null,
            "display": null,
            "left": null
          }
        },
        "46398885723048938aa876c7a206ba47": {
          "model_module": "@jupyter-widgets/controls",
          "model_name": "DescriptionStyleModel",
          "model_module_version": "1.5.0",
          "state": {
            "_view_name": "StyleView",
            "_model_name": "DescriptionStyleModel",
            "description_width": "",
            "_view_module": "@jupyter-widgets/base",
            "_model_module_version": "1.5.0",
            "_view_count": null,
            "_view_module_version": "1.2.0",
            "_model_module": "@jupyter-widgets/controls"
          }
        },
        "ae149af2b85f4bb7abe9f25c4935afb0": {
          "model_module": "@jupyter-widgets/base",
          "model_name": "LayoutModel",
          "model_module_version": "1.2.0",
          "state": {
            "_view_name": "LayoutView",
            "grid_template_rows": null,
            "right": null,
            "justify_content": null,
            "_view_module": "@jupyter-widgets/base",
            "overflow": null,
            "_model_module_version": "1.2.0",
            "_view_count": null,
            "flex_flow": null,
            "width": null,
            "min_width": null,
            "border": null,
            "align_items": null,
            "bottom": null,
            "_model_module": "@jupyter-widgets/base",
            "top": null,
            "grid_column": null,
            "overflow_y": null,
            "overflow_x": null,
            "grid_auto_flow": null,
            "grid_area": null,
            "grid_template_columns": null,
            "flex": null,
            "_model_name": "LayoutModel",
            "justify_items": null,
            "grid_row": null,
            "max_height": null,
            "align_content": null,
            "visibility": null,
            "align_self": null,
            "height": null,
            "min_height": null,
            "padding": null,
            "grid_auto_rows": null,
            "grid_gap": null,
            "max_width": null,
            "order": null,
            "_view_module_version": "1.2.0",
            "grid_template_areas": null,
            "object_position": null,
            "object_fit": null,
            "grid_auto_columns": null,
            "margin": null,
            "display": null,
            "left": null
          }
        }
      }
    }
  },
  "nbformat": 4,
  "nbformat_minor": 0
}